{
  "nbformat": 4,
  "nbformat_minor": 0,
  "metadata": {
    "colab": {
      "name": "Untitled10.ipynb",
      "provenance": [],
      "authorship_tag": "ABX9TyMvRf+y7Wr1tOl0oSCWpVSi",
      "include_colab_link": true
    },
    "kernelspec": {
      "name": "python3",
      "display_name": "Python 3"
    },
    "language_info": {
      "name": "python"
    }
  },
  "cells": [
    {
      "cell_type": "markdown",
      "metadata": {
        "id": "view-in-github",
        "colab_type": "text"
      },
      "source": [
        "<a href=\"https://colab.research.google.com/github/CorBen89/curso/blob/main/Untitled10.ipynb\" target=\"_parent\"><img src=\"https://colab.research.google.com/assets/colab-badge.svg\" alt=\"Open In Colab\"/></a>"
      ]
    },
    {
      "cell_type": "code",
      "metadata": {
        "id": "hQVWQwZnasWS"
      },
      "source": [
        "def indexedSecquentialSearch(items,value,group_division):\n",
        "  elements = [0]* 20\n",
        "  indices = [0] * 20\n",
        "  i, j, index, end = 0, 0, 0, 0\n",
        "  flag = 0\n",
        "  for i in range(0, len(items), group_division):\n",
        "    elements[index] = items[i]\n",
        "    indices[index] = i\n",
        "    index += 1\n",
        "  print(\"elementos: \",elements)\n",
        "  print(\"indices: \",indices)\n",
        "\n",
        "  if value < elements[0]:\n",
        "    print(\"no se encuentra el valor\")\n",
        "    return exit(0)\n",
        "  else:\n",
        "    for i in range(0, index + 1):\n",
        "      if value <= elements[i]:\n",
        "        start = indices[i -1]\n",
        "        end = indices[i]\n",
        "        flag = 1\n",
        "        break\n",
        "\n",
        "  if flag == 0:\n",
        "    start = indices[i -1]\n",
        "    end = len(items)\n",
        "\n",
        "  for i in range(start, end +1):\n",
        "    if value == items[i]:\n",
        "      j = 1\n",
        "      break\n",
        "  \n",
        "  if j == 1:\n",
        "    print(\"mi valor fue encontrado en la posicion: \", i)\n",
        "  else:\n",
        "    print(\"no se encientra\")\n"
      ],
      "execution_count": 12,
      "outputs": []
    },
    {
      "cell_type": "code",
      "metadata": {
        "colab": {
          "base_uri": "https://localhost:8080/"
        },
        "id": "SsRbrxvCfu0W",
        "outputId": "4bddcf19-7546-4e01-fbab-7c82a609848a"
      },
      "source": [
        "items= [12,15,17,21,28,36,57,81,99]\n",
        "indexedSecquentialSearch(items,99,3)"
      ],
      "execution_count": 18,
      "outputs": [
        {
          "output_type": "stream",
          "text": [
            "elementos:  [12, 21, 57, 0, 0, 0, 0, 0, 0, 0, 0, 0, 0, 0, 0, 0, 0, 0, 0, 0]\n",
            "indices:  [0, 3, 6, 0, 0, 0, 0, 0, 0, 0, 0, 0, 0, 0, 0, 0, 0, 0, 0, 0]\n",
            "mi valor fue encontrado en la posicion:  8\n"
          ],
          "name": "stdout"
        }
      ]
    }
  ]
}
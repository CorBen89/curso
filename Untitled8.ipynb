{
  "nbformat": 4,
  "nbformat_minor": 0,
  "metadata": {
    "colab": {
      "name": "Untitled8.ipynb",
      "provenance": [],
      "authorship_tag": "ABX9TyP5KkIKYAW+PX1CCFEXx0x4",
      "include_colab_link": true
    },
    "kernelspec": {
      "name": "python3",
      "display_name": "Python 3"
    },
    "language_info": {
      "name": "python"
    }
  },
  "cells": [
    {
      "cell_type": "markdown",
      "metadata": {
        "id": "view-in-github",
        "colab_type": "text"
      },
      "source": [
        "<a href=\"https://colab.research.google.com/github/CorBen89/curso/blob/main/Untitled8.ipynb\" target=\"_parent\"><img src=\"https://colab.research.google.com/assets/colab-badge.svg\" alt=\"Open In Colab\"/></a>"
      ]
    },
    {
      "cell_type": "code",
      "metadata": {
        "id": "ApGSEeOwM4xL"
      },
      "source": [
        "lista_valores = [0,1,0]\n",
        "any(lista_valores)"
      ],
      "execution_count": null,
      "outputs": []
    },
    {
      "cell_type": "code",
      "metadata": {
        "id": "zSuAItGTNmCE"
      },
      "source": [
        "all([1,0,2,3,4,5])"
      ],
      "execution_count": null,
      "outputs": []
    },
    {
      "cell_type": "code",
      "metadata": {
        "id": "0qX7s0uMN0hH"
      },
      "source": [
        "lista_strings =[\"a\",\"b\",\"c\",\" \"]\n",
        "all(lista_strings)"
      ],
      "execution_count": null,
      "outputs": []
    },
    {
      "cell_type": "code",
      "metadata": {
        "id": "zQcbg75iOiZS"
      },
      "source": [
        "lista_strings =[\"a\",\"b\",\"c\",\" \"]\n",
        "any(lista_strings)"
      ],
      "execution_count": null,
      "outputs": []
    },
    {
      "cell_type": "code",
      "metadata": {
        "id": "pHjO6iY6OVaF"
      },
      "source": [
        "print (2==2 or 3==3)"
      ],
      "execution_count": null,
      "outputs": []
    },
    {
      "cell_type": "code",
      "metadata": {
        "id": "Epm6el0vOqgH"
      },
      "source": [
        "print(2==2 and 3==3)"
      ],
      "execution_count": null,
      "outputs": []
    },
    {
      "cell_type": "code",
      "metadata": {
        "id": "bdvoseVWPELO"
      },
      "source": [
        "old_list=[2,1,3,8,10,11,13]\n",
        "list_modulp_dos = list(map(lambda x: x%2 == 0, old_list))"
      ],
      "execution_count": 10,
      "outputs": []
    },
    {
      "cell_type": "code",
      "metadata": {
        "id": "69_Broo8Qk-e"
      },
      "source": [
        "any(list_modulp_dos)"
      ],
      "execution_count": null,
      "outputs": []
    }
  ]
}
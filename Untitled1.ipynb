{
  "nbformat": 4,
  "nbformat_minor": 0,
  "metadata": {
    "colab": {
      "name": "Untitled1.ipynb",
      "provenance": [],
      "toc_visible": true,
      "authorship_tag": "ABX9TyN2Bwg+2r/mPmGhW81390Ia",
      "include_colab_link": true
    },
    "kernelspec": {
      "name": "python3",
      "display_name": "Python 3"
    },
    "language_info": {
      "name": "python"
    }
  },
  "cells": [
    {
      "cell_type": "markdown",
      "metadata": {
        "id": "view-in-github",
        "colab_type": "text"
      },
      "source": [
        "<a href=\"https://colab.research.google.com/github/CorBen89/curso/blob/main/Untitled1.ipynb\" target=\"_parent\"><img src=\"https://colab.research.google.com/assets/colab-badge.svg\" alt=\"Open In Colab\"/></a>"
      ]
    },
    {
      "cell_type": "code",
      "metadata": {
        "id": "yrJuMw2wJ46q"
      },
      "source": [
        "a = 5 #-------- 1\n",
        "b = 6 #--------- 1\n",
        "c = 10 #--------- 1\n",
        "n = 3\n",
        "for i in range(n):#-------n\n",
        "  for j in range(n): #-------n*n\n",
        "    x = i*i #--------n*n\n",
        "    y = j*j #--------n*n\n",
        "    z = i*j #--------n*n\n",
        "for k in range(n):#-------n\n",
        "  w = k*k #-------n\n",
        "  s = 3*k #------n\n",
        "\n",
        "print(c) #-------1\n",
        "\n",
        "#T(n) = 3 + 3n^2+ 2n + 1 = 3n^2 + 2n +4\n",
        "#Término dominante en notación big O: O(n^2)"
      ],
      "execution_count": null,
      "outputs": []
    },
    {
      "cell_type": "markdown",
      "metadata": {
        "id": "FroewCAKTWlE"
      },
      "source": [
        "terminos dominantes "
      ]
    },
    {
      "cell_type": "code",
      "metadata": {
        "id": "X6x-bDqVTrnD"
      },
      "source": [
        "#termono dominante o (1)\n",
        "\n",
        "a=1\n",
        "b=2\n",
        "c=1\n",
        "\n",
        "if a<b:\n",
        "  print(\"ok\")\n",
        "else:\n",
        "   print(\"false\")\n"
      ],
      "execution_count": null,
      "outputs": []
    },
    {
      "cell_type": "markdown",
      "metadata": {
        "id": "bOtWhfU2UokD"
      },
      "source": [
        "ok"
      ]
    },
    {
      "cell_type": "code",
      "metadata": {
        "id": "qrKI5b8VUpyh"
      },
      "source": [
        "#notacion dominte o (n)\n",
        "list=[9,3,2,4,5,6]\n",
        "for i in range(len(lista)):\n",
        "  print(i)\n",
        "  "
      ],
      "execution_count": null,
      "outputs": []
    },
    {
      "cell_type": "code",
      "metadata": {
        "id": "ziUzEzgdVI1U"
      },
      "source": [
        "\n",
        "array_a=[1,2,3,4,5,6,7,8,9,10]\n",
        "array_b=[1,2,3,4,5,6,7,8,9,10]\n",
        "for i in range(len(array_a)):\n",
        "  for j in range(len(array_b)):\n",
        "    print(i)\n",
        "    print(j)\n"
      ],
      "execution_count": null,
      "outputs": []
    },
    {
      "cell_type": "markdown",
      "metadata": {
        "id": "ksknK3rVWYti"
      },
      "source": [
        "lista anidada"
      ]
    },
    {
      "cell_type": "code",
      "metadata": {
        "colab": {
          "base_uri": "https://localhost:8080/"
        },
        "id": "yBkWluhQWb0o",
        "outputId": "1a443b59-c117-4222-cd1e-84008fbb8047"
      },
      "source": [
        "import time\n",
        "inicio= time.time()\n",
        "lista_anidada=[[1,2],[3,4],[5,6],[7,8]]\n",
        "for i in range (0,len(lista_anidada)):\n",
        "  for j in range(0,len(lista_anidada[0])):\n",
        "    if lista_anidada[i][j]== 8:\n",
        "      print(\"el valor cuatro se encuentra en nuestra lista anidada\")\n",
        "fin=time.time()\n",
        "print(fin-inicio)\n"
      ],
      "execution_count": 28,
      "outputs": [
        {
          "output_type": "stream",
          "text": [
            "el valor cuatro se encuentra en nuestra lista anidada\n",
            "0.00112152099609375\n"
          ],
          "name": "stdout"
        }
      ]
    }
  ]
}
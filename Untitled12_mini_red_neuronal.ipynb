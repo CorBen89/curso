{
  "nbformat": 4,
  "nbformat_minor": 0,
  "metadata": {
    "colab": {
      "name": "Untitled12.ipynb",
      "provenance": [],
      "authorship_tag": "ABX9TyNSACdgysTupbaw9ey3RPLs",
      "include_colab_link": true
    },
    "kernelspec": {
      "name": "python3",
      "display_name": "Python 3"
    },
    "language_info": {
      "name": "python"
    }
  },
  "cells": [
    {
      "cell_type": "markdown",
      "metadata": {
        "id": "view-in-github",
        "colab_type": "text"
      },
      "source": [
        "<a href=\"https://colab.research.google.com/github/CorBen89/curso/blob/main/Untitled12_mini_red_neuronal.ipynb\" target=\"_parent\"><img src=\"https://colab.research.google.com/assets/colab-badge.svg\" alt=\"Open In Colab\"/></a>"
      ]
    },
    {
      "cell_type": "code",
      "metadata": {
        "id": "8POkEPmav3nj"
      },
      "source": [
        "import numpy as np"
      ],
      "execution_count": 1,
      "outputs": []
    },
    {
      "cell_type": "code",
      "metadata": {
        "id": "y7Pqs4BasqZY"
      },
      "source": [
        "\n",
        "input_set = np.array([[0,1,0],\n",
        "[0,0,1],\n",
        "[1,0,0],\n",
        "[1,1,0],\n",
        "[1,1,1],\n",
        "[0,1,1],\n",
        "[0,1,0]])\n"
      ],
      "execution_count": 5,
      "outputs": []
    },
    {
      "cell_type": "code",
      "metadata": {
        "id": "VyCSgw0pwdck"
      },
      "source": [
        "labels = np.array([[1,\n",
        "                    0,\n",
        "                    0,\n",
        "                    1,\n",
        "                    1,\n",
        "                    0,\n",
        "                    1]])"
      ],
      "execution_count": 6,
      "outputs": []
    },
    {
      "cell_type": "code",
      "metadata": {
        "id": "nHhCG6MiwsSi"
      },
      "source": [
        "labels = labels.reshape(7,1)"
      ],
      "execution_count": 8,
      "outputs": []
    },
    {
      "cell_type": "code",
      "metadata": {
        "id": "GucQuhKdyMCl"
      },
      "source": [
        "np.random.seed(42)\n",
        "weights = np.random.rand(3,1)\n",
        "bias = np.random.rand(1)"
      ],
      "execution_count": 28,
      "outputs": []
    },
    {
      "cell_type": "code",
      "metadata": {
        "id": "tzkRgnUdw5Z8"
      },
      "source": [
        "def sigmoid(x):\n",
        "  return 1/(1+np.exp(-x))"
      ],
      "execution_count": 9,
      "outputs": []
    },
    {
      "cell_type": "code",
      "metadata": {
        "id": "MWghIEtYxLgG"
      },
      "source": [
        "def sigmoin_derivate (x):\n",
        "  return sigmoid(x)+(1-sigmoid(x))"
      ],
      "execution_count": 10,
      "outputs": []
    },
    {
      "cell_type": "code",
      "metadata": {
        "id": "BKieGCgOxfNc"
      },
      "source": [
        "lr= 0.01\n",
        "\n",
        "for epoch in range(100000):\n",
        "  inputs = input_set\n",
        "  wx = np.dot(inputs,weights)+ bias\n",
        "  z= sigmoid(wx)\n",
        "  error = z - labels\n",
        "  print(error.sum())\n",
        "  dcost = error\n",
        "  dpred = sigmoin_derivate(z)\n",
        "  z_del = dcost*dpred\n",
        "  inputs = input_set.T\n",
        "  weights = weights - lr * np.dot(inputs, z_del)\n",
        "  for num in z_del:\n",
        "    bias= bias - lr * num"
      ],
      "execution_count": null,
      "outputs": []
    },
    {
      "cell_type": "code",
      "metadata": {
        "colab": {
          "base_uri": "https://localhost:8080/"
        },
        "id": "lfNJn5wm0TiZ",
        "outputId": "f80e3ea9-2257-4d7f-e359-ace965ead9e5"
      },
      "source": [
        "input_ext = np.array([1,1,1])\n",
        "resultado = sigmoid(np.dot(input_ext,weights)+ bias)\n",
        "print(resultado)"
      ],
      "execution_count": 38,
      "outputs": [
        {
          "output_type": "stream",
          "text": [
            "[0.99169172]\n"
          ],
          "name": "stdout"
        }
      ]
    },
    {
      "cell_type": "code",
      "metadata": {
        "colab": {
          "base_uri": "https://localhost:8080/"
        },
        "id": "b4o_6vq23DVw",
        "outputId": "04c54468-3d44-4c56-b1c3-8492e5071cfb"
      },
      "source": [
        "weights"
      ],
      "execution_count": 40,
      "outputs": [
        {
          "output_type": "execute_result",
          "data": {
            "text/plain": [
              "array([[  9.36214689],\n",
              "       [ 20.28569762],\n",
              "       [-10.46779135]])"
            ]
          },
          "metadata": {
            "tags": []
          },
          "execution_count": 40
        }
      ]
    }
  ]
}
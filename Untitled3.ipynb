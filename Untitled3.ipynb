{
  "nbformat": 4,
  "nbformat_minor": 0,
  "metadata": {
    "colab": {
      "name": "Untitled3.ipynb",
      "provenance": [],
      "authorship_tag": "ABX9TyOdLgkNatk1JyLU1bPuP9pw",
      "include_colab_link": true
    },
    "kernelspec": {
      "name": "python3",
      "display_name": "Python 3"
    },
    "language_info": {
      "name": "python"
    }
  },
  "cells": [
    {
      "cell_type": "markdown",
      "metadata": {
        "id": "view-in-github",
        "colab_type": "text"
      },
      "source": [
        "<a href=\"https://colab.research.google.com/github/CorBen89/curso/blob/main/Untitled3.ipynb\" target=\"_parent\"><img src=\"https://colab.research.google.com/assets/colab-badge.svg\" alt=\"Open In Colab\"/></a>"
      ]
    },
    {
      "cell_type": "code",
      "metadata": {
        "id": "wqVDBwAccjox"
      },
      "source": [
        "#lista_ = [5,1,6,2,4,3]\n",
        "def BubleSort (lista_):\n",
        "  for steps in range(len(lista_)-1,0,-1):\n",
        "#  print(\"steps \", steps)  \n",
        "    for i in range(steps):\n",
        "#    print(\"indice: \",i,\"Mes estas comparado con: \", i+1)\n",
        "      if lista_ [i] > lista_[i+1]:\n",
        "        temp = lista_[i]\n",
        "        lista_[i] = lista_[i+1]\n",
        "        lista_[i+1] = temp\n",
        "#  print(lista_)\n",
        "  return lista_"
      ],
      "execution_count": 25,
      "outputs": []
    },
    {
      "cell_type": "code",
      "metadata": {
        "colab": {
          "base_uri": "https://localhost:8080/"
        },
        "id": "gpPnQsn9hz6K",
        "outputId": "23cfa05e-6662-41bd-b7ba-a9535740a616"
      },
      "source": [
        "BubleSort([5,1,6,2,4,3])"
      ],
      "execution_count": 26,
      "outputs": [
        {
          "output_type": "execute_result",
          "data": {
            "text/plain": [
              "[1, 2, 3, 4, 5, 6]"
            ]
          },
          "metadata": {
            "tags": []
          },
          "execution_count": 26
        }
      ]
    },
    {
      "cell_type": "code",
      "metadata": {
        "id": "2h_xSfyfjOs4"
      },
      "source": [
        "def unsortedList(size_of_array):\n",
        "  import random\n",
        "  random_list = []\n",
        "  for i in range (0,size_of_array):\n",
        "    n= random.randint(1,100)\n",
        "    random_list.append(n)\n",
        "  return random_list"
      ],
      "execution_count": 28,
      "outputs": []
    },
    {
      "cell_type": "code",
      "metadata": {
        "id": "pk5GHErwkNFI"
      },
      "source": [
        "def bubleSortOptimized(lista):\n",
        "  swapped=True\n",
        "  steps_=len(lista)-1\n",
        "  while steps_ > 0 and swapped:\n",
        "    print(\"steps: \", steps_)\n",
        "    swapped = False\n",
        "    for i in range(steps_):\n",
        "      print(\"indice: \",i,\"comparado con: \", i+1)\n",
        "      if lista[i] > lista[i+1]:\n",
        "        swapped = True\n",
        "        temp = lista[i]\n",
        "        lista[i]=lista[i+1]\n",
        "        lista[i+1]=temp\n",
        "    steps_=steps_ -1\n",
        "    print(lista)\n",
        "  return lista\n"
      ],
      "execution_count": 54,
      "outputs": []
    },
    {
      "cell_type": "code",
      "metadata": {
        "colab": {
          "base_uri": "https://localhost:8080/"
        },
        "id": "bZIZ0iQanGkP",
        "outputId": "836aeb87-d96b-4bb4-cc2b-fec5f06ced13"
      },
      "source": [
        "bubleSortOptimized([7,3,1,4,3,8,9])"
      ],
      "execution_count": 55,
      "outputs": [
        {
          "output_type": "stream",
          "text": [
            "steps:  6\n",
            "indice:  0 comparado con:  1\n",
            "indice:  1 comparado con:  2\n",
            "indice:  2 comparado con:  3\n",
            "indice:  3 comparado con:  4\n",
            "indice:  4 comparado con:  5\n",
            "indice:  5 comparado con:  6\n",
            "[3, 1, 4, 3, 7, 8, 9]\n",
            "steps:  5\n",
            "indice:  0 comparado con:  1\n",
            "indice:  1 comparado con:  2\n",
            "indice:  2 comparado con:  3\n",
            "indice:  3 comparado con:  4\n",
            "indice:  4 comparado con:  5\n",
            "[1, 3, 3, 4, 7, 8, 9]\n",
            "steps:  4\n",
            "indice:  0 comparado con:  1\n",
            "indice:  1 comparado con:  2\n",
            "indice:  2 comparado con:  3\n",
            "indice:  3 comparado con:  4\n",
            "[1, 3, 3, 4, 7, 8, 9]\n"
          ],
          "name": "stdout"
        },
        {
          "output_type": "execute_result",
          "data": {
            "text/plain": [
              "[1, 3, 3, 4, 7, 8, 9]"
            ]
          },
          "metadata": {
            "tags": []
          },
          "execution_count": 55
        }
      ]
    }
  ]
}
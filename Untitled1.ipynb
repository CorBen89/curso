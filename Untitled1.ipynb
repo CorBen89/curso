{
  "nbformat": 4,
  "nbformat_minor": 0,
  "metadata": {
    "colab": {
      "name": "Untitled1.ipynb",
      "provenance": [],
      "toc_visible": true,
      "authorship_tag": "ABX9TyNXfkCJV2mIELLrkrIl4GWf",
      "include_colab_link": true
    },
    "kernelspec": {
      "name": "python3",
      "display_name": "Python 3"
    },
    "language_info": {
      "name": "python"
    }
  },
  "cells": [
    {
      "cell_type": "markdown",
      "metadata": {
        "id": "view-in-github",
        "colab_type": "text"
      },
      "source": [
        "<a href=\"https://colab.research.google.com/github/CorBen89/curso/blob/main/Untitled1.ipynb\" target=\"_parent\"><img src=\"https://colab.research.google.com/assets/colab-badge.svg\" alt=\"Open In Colab\"/></a>"
      ]
    },
    {
      "cell_type": "code",
      "metadata": {
        "id": "yrJuMw2wJ46q"
      },
      "source": [
        "a = 5 #-------- 1\n",
        "b = 6 #--------- 1\n",
        "c = 10 #--------- 1\n",
        "n = 3\n",
        "for i in range(n):#-------n\n",
        "  for j in range(n): #-------n*n\n",
        "    x = i*i #--------n*n\n",
        "    y = j*j #--------n*n\n",
        "    z = i*j #--------n*n\n",
        "for k in range(n):#-------n\n",
        "  w = k*k #-------n\n",
        "  s = 3*k #------n\n",
        "\n",
        "print(c) #-------1\n",
        "\n",
        "#T(n) = 3 + 3n^2+ 2n + 1 = 3n^2 + 2n +4\n",
        "#Término dominante en notación big O: O(n^2)"
      ],
      "execution_count": null,
      "outputs": []
    }
  ]
}
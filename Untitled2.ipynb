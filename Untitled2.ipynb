{
  "nbformat": 4,
  "nbformat_minor": 0,
  "metadata": {
    "colab": {
      "name": "Untitled2.ipynb",
      "provenance": [],
      "authorship_tag": "ABX9TyMvdREultENA9FtvItH/F4j",
      "include_colab_link": true
    },
    "kernelspec": {
      "name": "python3",
      "display_name": "Python 3"
    },
    "language_info": {
      "name": "python"
    }
  },
  "cells": [
    {
      "cell_type": "markdown",
      "metadata": {
        "id": "view-in-github",
        "colab_type": "text"
      },
      "source": [
        "<a href=\"https://colab.research.google.com/github/CorBen89/curso/blob/main/Untitled2.ipynb\" target=\"_parent\"><img src=\"https://colab.research.google.com/assets/colab-badge.svg\" alt=\"Open In Colab\"/></a>"
      ]
    },
    {
      "cell_type": "code",
      "metadata": {
        "id": "D69425epRZ2V"
      },
      "source": [
        "lista_ = [9,2,8,3,7,3,6,4,5,1,0]\n",
        "\n",
        "def finMinOptimizado(lista_):\n",
        "  set_min = lista_[0]\n",
        "  for i in lista_:\n",
        "    if i < set_min:\n",
        "      set_min = i\n",
        "  return set_min   "
      ],
      "execution_count": 22,
      "outputs": []
    },
    {
      "cell_type": "code",
      "metadata": {
        "colab": {
          "base_uri": "https://localhost:8080/"
        },
        "id": "7hCAqaQhXPJi",
        "outputId": "2ecca646-da2f-4e8c-a3cb-28c19857ca06"
      },
      "source": [
        ""
      ],
      "execution_count": 23,
      "outputs": [
        {
          "output_type": "stream",
          "text": [
            "<function finMinOptimizado at 0x7f9360e5f710>\n"
          ],
          "name": "stdout"
        }
      ]
    }
  ]
}
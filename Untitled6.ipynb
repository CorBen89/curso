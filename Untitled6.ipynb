{
  "nbformat": 4,
  "nbformat_minor": 0,
  "metadata": {
    "colab": {
      "name": "Untitled6.ipynb",
      "provenance": [],
      "authorship_tag": "ABX9TyPtZfE5nCyqqJlkxXz0XBvm",
      "include_colab_link": true
    },
    "kernelspec": {
      "name": "python3",
      "display_name": "Python 3"
    },
    "language_info": {
      "name": "python"
    }
  },
  "cells": [
    {
      "cell_type": "markdown",
      "metadata": {
        "id": "view-in-github",
        "colab_type": "text"
      },
      "source": [
        "<a href=\"https://colab.research.google.com/github/CorBen89/curso/blob/main/Untitled6.ipynb\" target=\"_parent\"><img src=\"https://colab.research.google.com/assets/colab-badge.svg\" alt=\"Open In Colab\"/></a>"
      ]
    },
    {
      "cell_type": "markdown",
      "metadata": {
        "id": "JZ0PAecNQiRp"
      },
      "source": [
        "ordenar de menor a menos por pivote"
      ]
    },
    {
      "cell_type": "code",
      "metadata": {
        "colab": {
          "base_uri": "https://localhost:8080/"
        },
        "id": "F41l2VjtDsFo",
        "outputId": "3c24f46e-f659-435f-8fb3-9f24216b8255"
      },
      "source": [
        "def particion(items, low, high):\n",
        "  pivote= items[high]\n",
        "  i= low\n",
        "  for j in range(low, high):\n",
        "    if items[j] < pivote:\n",
        "      items[i],items[j]=items[j],items[i]\n",
        "      i += 1\n",
        "  pivote_index= i\n",
        "  items[pivote_index],items[high]= items[high],items[pivote_index]\n",
        "  return pivote_index\n",
        "\n",
        "def quicksort(items, low, high):\n",
        "    if low < high:\n",
        "     p_index = particion(items, low, high)\n",
        "     quicksort(items, low, p_index - 1)#corre por izquierda (menores)\n",
        "     quicksort(items, p_index +1, high)#corre por por la derecha (mayores)\n",
        "\n",
        "def test_quicksort():\n",
        "  test_list = [9,5,3,6,1,0,7,8,4,2]\n",
        "  low = 0\n",
        "  high = len(test_list)-1 \n",
        "  print(test_list)\n",
        "  quicksort(test_list, low, high)\n",
        "  print('Lista_ordenada')\n",
        "  print(test_list)\n",
        "\n",
        "test_quicksort()"
      ],
      "execution_count": 76,
      "outputs": [
        {
          "output_type": "stream",
          "text": [
            "[9, 5, 3, 6, 1, 0, 7, 8, 4, 2]\n",
            "Lista_ordenada\n",
            "[0, 1, 2, 3, 4, 5, 6, 7, 8, 9]\n"
          ],
          "name": "stdout"
        }
      ]
    }
  ]
}
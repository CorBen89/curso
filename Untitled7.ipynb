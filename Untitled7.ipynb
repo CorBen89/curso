{
  "nbformat": 4,
  "nbformat_minor": 0,
  "metadata": {
    "colab": {
      "name": "Untitled7.ipynb",
      "provenance": [],
      "authorship_tag": "ABX9TyMyC9fVB+9blJ/4QL8Huo8e",
      "include_colab_link": true
    },
    "kernelspec": {
      "name": "python3",
      "display_name": "Python 3"
    },
    "language_info": {
      "name": "python"
    }
  },
  "cells": [
    {
      "cell_type": "markdown",
      "metadata": {
        "id": "view-in-github",
        "colab_type": "text"
      },
      "source": [
        "<a href=\"https://colab.research.google.com/github/CorBen89/curso/blob/main/Untitled7.ipynb\" target=\"_parent\"><img src=\"https://colab.research.google.com/assets/colab-badge.svg\" alt=\"Open In Colab\"/></a>"
      ]
    },
    {
      "cell_type": "code",
      "metadata": {
        "id": "_U8WdPeTS0o-"
      },
      "source": [
        "def modulo2(x):\n",
        "  if x % 2 != 0:\n",
        "    return True\n",
        "  else:\n",
        "    False"
      ],
      "execution_count": 1,
      "outputs": []
    },
    {
      "cell_type": "code",
      "metadata": {
        "id": "nzU_KSoNTFa7"
      },
      "source": [
        "modulo2(5)"
      ],
      "execution_count": null,
      "outputs": []
    },
    {
      "cell_type": "code",
      "metadata": {
        "id": "j34La3IFTPMS"
      },
      "source": [
        "modulo_impar = lambda numero: numero % 2 != 0"
      ],
      "execution_count": 10,
      "outputs": []
    },
    {
      "cell_type": "code",
      "metadata": {
        "id": "WJy5sb70WTQF"
      },
      "source": [
        "modulo_par = lambda numero: numero % 2 == 0"
      ],
      "execution_count": 27,
      "outputs": []
    },
    {
      "cell_type": "code",
      "metadata": {
        "id": "cJTl7ux6TYuE"
      },
      "source": [
        "modulo_impar(3)"
      ],
      "execution_count": null,
      "outputs": []
    },
    {
      "cell_type": "code",
      "metadata": {
        "id": "WTWU_QJQTwAR"
      },
      "source": [
        "suma = lambda x,y : x+y"
      ],
      "execution_count": 14,
      "outputs": []
    },
    {
      "cell_type": "code",
      "metadata": {
        "id": "XZXXMUwxUGHg"
      },
      "source": [
        "suma (4,5)"
      ],
      "execution_count": null,
      "outputs": []
    },
    {
      "cell_type": "code",
      "metadata": {
        "id": "jPmKW-ZqUaf8"
      },
      "source": [
        "funcion_cuadrada = lambda x: True if x **2 > 100 else False # expresiones ternarias"
      ],
      "execution_count": 22,
      "outputs": []
    },
    {
      "cell_type": "code",
      "metadata": {
        "id": "Szzfg_BpUpXu"
      },
      "source": [
        "funcion_cuadrada(12)"
      ],
      "execution_count": null,
      "outputs": []
    },
    {
      "cell_type": "code",
      "metadata": {
        "id": "4C66XUFZW6u2"
      },
      "source": [
        "lista_compleja = [1,2,3,4,5,6,7,8]"
      ],
      "execution_count": 35,
      "outputs": []
    },
    {
      "cell_type": "code",
      "metadata": {
        "id": "gsIxxHGPU_vb"
      },
      "source": [
        "lista_anidada = filter(modulo_impar, lista_compleja)"
      ],
      "execution_count": 36,
      "outputs": []
    },
    {
      "cell_type": "code",
      "metadata": {
        "id": "H_r9-jQkWyiO"
      },
      "source": [
        "list(lista_anidada)"
      ],
      "execution_count": null,
      "outputs": []
    },
    {
      "cell_type": "code",
      "metadata": {
        "id": "FUJnC6zzWdLj"
      },
      "source": [
        "lista_anidada2 = filter(modulo_par, lista_compleja)"
      ],
      "execution_count": 38,
      "outputs": []
    },
    {
      "cell_type": "code",
      "metadata": {
        "id": "WfDwJlD8U-iK"
      },
      "source": [
        "list(lista_anidada2)"
      ],
      "execution_count": null,
      "outputs": []
    },
    {
      "cell_type": "code",
      "metadata": {
        "id": "vFzZ_WA7Xq4T"
      },
      "source": [
        "lista_compleja2 = [1,2,3,4,5,[1,2,3,4]]"
      ],
      "execution_count": 42,
      "outputs": []
    },
    {
      "cell_type": "code",
      "metadata": {
        "id": "hpF71D5uXAKw"
      },
      "source": [
        "lista_anidada_extraccion = filter( lambda x: x if type(x)== list else False, lista_compleja2)"
      ],
      "execution_count": 43,
      "outputs": []
    },
    {
      "cell_type": "code",
      "metadata": {
        "id": "DkCWYLwvXxPP"
      },
      "source": [
        "list(lista_anidada_extraccion)"
      ],
      "execution_count": null,
      "outputs": []
    },
    {
      "cell_type": "code",
      "metadata": {
        "id": "0iZJQZuuYK3F"
      },
      "source": [
        "lista_anidada_extraccion2 = filter( lambda x: x if type(x)== int else False, lista_compleja2)"
      ],
      "execution_count": 48,
      "outputs": []
    },
    {
      "cell_type": "code",
      "metadata": {
        "id": "FfBzT54dYXsn"
      },
      "source": [
        "list(lista_anidada_extraccion2)"
      ],
      "execution_count": null,
      "outputs": []
    },
    {
      "cell_type": "code",
      "metadata": {
        "id": "rV4EDBskYgjl"
      },
      "source": [
        "a = [(1,2),(3,4),(5,6)]"
      ],
      "execution_count": 57,
      "outputs": []
    },
    {
      "cell_type": "code",
      "metadata": {
        "id": "K9G3TCxeYtxG"
      },
      "source": [
        "b = map(lambda x: x[0]+ x[1],a)"
      ],
      "execution_count": 56,
      "outputs": []
    },
    {
      "cell_type": "code",
      "metadata": {
        "id": "MKP3p46fY7LF"
      },
      "source": [
        "list(b)"
      ],
      "execution_count": null,
      "outputs": []
    },
    {
      "cell_type": "code",
      "metadata": {
        "id": "Pk9tSMzrZB0z"
      },
      "source": [
        "frutas = [\"manzanas\", \"naranjas\", \"platano\", \"pera\"]"
      ],
      "execution_count": 59,
      "outputs": []
    },
    {
      "cell_type": "code",
      "metadata": {
        "id": "X1EdNVKXZQzR"
      },
      "source": [
        "map_object = map(lambda x: True if x[0] == \"p\" else False, frutas)"
      ],
      "execution_count": 63,
      "outputs": []
    },
    {
      "cell_type": "code",
      "metadata": {
        "id": "68SFrqwSZz3a"
      },
      "source": [
        "list(map_object)"
      ],
      "execution_count": null,
      "outputs": []
    },
    {
      "cell_type": "code",
      "metadata": {
        "id": "ogEyyBdwaKz-"
      },
      "source": [
        "from functools import reduce"
      ],
      "execution_count": 65,
      "outputs": []
    },
    {
      "cell_type": "code",
      "metadata": {
        "id": "3muCoPgLa4DH"
      },
      "source": [
        "lista = [2,4,3,5,1,7,8]"
      ],
      "execution_count": 76,
      "outputs": []
    },
    {
      "cell_type": "code",
      "metadata": {
        "id": "swuFZ_awaUaT"
      },
      "source": [
        "reduce(lambda a,b: a if a < b else b, lista)"
      ],
      "execution_count": null,
      "outputs": []
    },
    {
      "cell_type": "code",
      "metadata": {
        "id": "oURmfvuTb2ag"
      },
      "source": [
        "reduce(lambda x,y: x+y, lista)"
      ],
      "execution_count": null,
      "outputs": []
    }
  ]
}
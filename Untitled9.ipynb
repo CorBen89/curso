{
  "nbformat": 4,
  "nbformat_minor": 0,
  "metadata": {
    "colab": {
      "name": "Untitled9.ipynb",
      "provenance": [],
      "authorship_tag": "ABX9TyO/nYsjv5MQ3xT59NXHBlYF",
      "include_colab_link": true
    },
    "kernelspec": {
      "name": "python3",
      "display_name": "Python 3"
    },
    "language_info": {
      "name": "python"
    }
  },
  "cells": [
    {
      "cell_type": "markdown",
      "metadata": {
        "id": "view-in-github",
        "colab_type": "text"
      },
      "source": [
        "<a href=\"https://colab.research.google.com/github/CorBen89/curso/blob/main/Untitled9.ipynb\" target=\"_parent\"><img src=\"https://colab.research.google.com/assets/colab-badge.svg\" alt=\"Open In Colab\"/></a>"
      ]
    },
    {
      "cell_type": "code",
      "metadata": {
        "id": "qC2q9xjtS2-Z"
      },
      "source": [
        "def linearSearch(items, value):\n",
        "  for i in range(0,len(items)): #termino dominante en notacion big o: 0(n)\n",
        "    if items[i] == value:\n",
        "      return i\n",
        "  return -1"
      ],
      "execution_count": 16,
      "outputs": []
    },
    {
      "cell_type": "code",
      "metadata": {
        "id": "lXovjp_oTJip"
      },
      "source": [
        "items=[2,4,56,34,25,4,34,23,12]\n",
        "#linearSearch(items, 4)"
      ],
      "execution_count": 22,
      "outputs": []
    },
    {
      "cell_type": "code",
      "metadata": {
        "id": "2lzN7U4LVXo9"
      },
      "source": [
        "def linearSearchMultiple(items, value):\n",
        "  for i in range(0,len(items)): #termino dominante en\n",
        "    if items[i] == value:\n",
        "      print(i)\n"
      ],
      "execution_count": 18,
      "outputs": []
    },
    {
      "cell_type": "code",
      "metadata": {
        "id": "nAr9moBcVi4O"
      },
      "source": [
        "linearSearchMultiple(items,34)"
      ],
      "execution_count": null,
      "outputs": []
    },
    {
      "cell_type": "code",
      "metadata": {
        "id": "HdhZZe2Baicv"
      },
      "source": [
        "def binarySearch(items, value):\n",
        "  low=0\n",
        "  high=len(items)-1\n",
        "  while low <= high:\n",
        "    print(\"valor low: \", low)\n",
        "    print(\"valor high: \", high)\n",
        "    mid =(high + low)//2\n",
        "    print(\"valor mid: \", mid)\n",
        "    if items[mid] < value:\n",
        "      low = mid+1\n",
        "    elif items[mid]> value:\n",
        "      high= mid-1\n",
        "    else:\n",
        "      return mid\n",
        "  return -1"
      ],
      "execution_count": 36,
      "outputs": []
    },
    {
      "cell_type": "code",
      "metadata": {
        "colab": {
          "base_uri": "https://localhost:8080/"
        },
        "id": "g5icnkUDa6Bw",
        "outputId": "5b8d7006-abc8-4f26-e31d-05d25ff79c45"
      },
      "source": [
        "lista_=[2,4,8,12,16,24,36]\n",
        "binarySearch(lista_,24)"
      ],
      "execution_count": 37,
      "outputs": [
        {
          "output_type": "stream",
          "text": [
            "valor low:  0\n",
            "valor high:  6\n",
            "valor mid:  3\n",
            "valor low:  4\n",
            "valor high:  6\n",
            "valor mid:  5\n"
          ],
          "name": "stdout"
        },
        {
          "output_type": "execute_result",
          "data": {
            "text/plain": [
              "5"
            ]
          },
          "metadata": {
            "tags": []
          },
          "execution_count": 37
        }
      ]
    },
    {
      "cell_type": "code",
      "metadata": {
        "id": "WkTqjmSqbyJw"
      },
      "source": [
        "def firstElement(items, value):\n",
        "  low=0\n",
        "  high=len(items)-1\n",
        "  res=-1\n",
        "  while low <= high:\n",
        "    mid =(high + low)//2\n",
        "    if items[mid] < value:\n",
        "      low = mid+1\n",
        "    elif items[mid]> value:\n",
        "      high= mid-1\n",
        "    else:\n",
        "      res = mid\n",
        "      high = mid - 1\n",
        "  return res\n",
        "      \n",
        "def lastElement(itmes, value):\n",
        "  low=0\n",
        "  high=len(items) -1\n",
        "  res=-1\n",
        "  while low <= high:\n",
        "    mid =(high + low)//2\n",
        "    if items[mid] < value:\n",
        "      low = mid +1\n",
        "    elif items[mid]> value:\n",
        "      high= mid -1\n",
        "    else:\n",
        "      res = mid\n",
        "      low = mid + 1\n",
        "  return res\n"
      ],
      "execution_count": 46,
      "outputs": []
    },
    {
      "cell_type": "code",
      "metadata": {
        "colab": {
          "base_uri": "https://localhost:8080/"
        },
        "id": "k2s9LsnFgmMn",
        "outputId": "943b3478-4d5a-4243-b47f-f7c56b872abc"
      },
      "source": [
        "items = [2,3,4,5,5,5,6,7,8,12]\n",
        "print (\"El primer elemento es: \", firstElement(items, 5))\n",
        "print (\"el segundo elemento es: \", lastElement(items, 5))"
      ],
      "execution_count": 47,
      "outputs": [
        {
          "output_type": "stream",
          "text": [
            "El primer elemento es:  3\n",
            "el segundo elemento es:  5\n"
          ],
          "name": "stdout"
        }
      ]
    }
  ]
}